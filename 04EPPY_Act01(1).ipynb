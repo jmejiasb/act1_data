{
 "cells": [
  {
   "cell_type": "markdown",
   "id": "intellectual-humor",
   "metadata": {},
   "source": [
    "<img src=\"../img/viu_logo.png\" width=\"200\">\n",
    "\n",
    "## 04EPPY - Actividad 1\n",
    "\n",
    "25% de la Nota Final\n",
    "\n",
    "### Fecha Entrega\n",
    "- Convocatoria 1 - 10/03/2022\n",
    "- Convocatoria 2 - 17/03/2022\n",
    "\n",
    "### Instrucciones:\n",
    "- Crear un notebook de Python3 que servirá como entrega de la actividad.\n",
    "- Separar bien los apartados propuestos con celdas Markdown.\n",
    "- Mantener una estructura limpia, comentando código y secuenciando los apartados con el código correspondiente que resuelva la actividad.\n",
    "- Como criterio de evaluación se tendrá en cuenta el resultado, la consecución del mismo, estilo, comentarios y adecuación.\n",
    "- No está permitido compartir los resultados ni el código en ninguno de los foros. \n",
    "\n",
    "### Entrega:\n",
    "- Un solo documento en formato notebook: .ipynb\n",
    "- Para hacer la entrega hay que hacer un tag al repositorio en una fecha anterior a la fecha de entrega de la actividad, y pegar el enlace al tag del repositorio en la actividad de blackboard."
   ]
  },
  {
   "cell_type": "code",
   "execution_count": null,
   "id": "d662fccc-c747-49c9-8a0a-88cf1cb7b4e6",
   "metadata": {},
   "outputs": [],
   "source": [
    "pip install numpy"
   ]
  },
  {
   "cell_type": "code",
   "execution_count": null,
   "id": "af60785d-c181-4bb6-9526-d847cf6a0a7f",
   "metadata": {},
   "outputs": [],
   "source": [
    "pip install pandas"
   ]
  },
  {
   "cell_type": "code",
   "execution_count": 1,
   "id": "8560a1c3-cb21-4e24-8028-14c18b1aa918",
   "metadata": {
    "tags": []
   },
   "outputs": [],
   "source": [
    "import numpy as np\n",
    "import pandas as pd"
   ]
  },
  {
   "cell_type": "markdown",
   "id": "southwest-learning",
   "metadata": {},
   "source": [
    "### A1 - Ficheros - 15%\n",
    "- Descarga datos mediante la siguiente url https://raw.githubusercontent.com/grammakov/USA-cities-and-states/master/us_cities_states_counties.csv\n",
    "- Imprimir el número de ciudades que tiene el estado de Florida\n",
    "- Resolver el problema de dos maneras distintas, una usando pandas y otra sin usar ninguna librería (solo Python standard)"
   ]
  },
  {
   "cell_type": "code",
   "execution_count": 2,
   "id": "6ebff63b-3f06-4cec-89e6-7f3897ebb348",
   "metadata": {
    "tags": []
   },
   "outputs": [
    {
     "data": {
      "text/plain": [
       "('res\\\\us_cities_states_counties.csv',\n",
       " <http.client.HTTPMessage at 0x2a5a4d24c90>)"
      ]
     },
     "execution_count": 2,
     "metadata": {},
     "output_type": "execute_result"
    }
   ],
   "source": [
    "import urllib.request \n",
    "import os\n",
    "import csv\n",
    "\n",
    "\n",
    "url = \"https://raw.githubusercontent.com/grammakov/USA-cities-and-states/master/us_cities_states_counties.csv\"\n",
    "file_route = os.path.join(\"res\", \"us_cities_states_counties.csv\")\n",
    "#(url, file_route)\n",
    "urllib.request.urlretrieve(url, file_route)"
   ]
  },
  {
   "cell_type": "code",
   "execution_count": 3,
   "id": "38a5dccd-741b-47f6-99bd-144aef17bb3b",
   "metadata": {
    "tags": []
   },
   "outputs": [
    {
     "name": "stdout",
     "output_type": "stream",
     "text": [
      "El numero de ciudades que tiene el estado de Florida es 537\n"
     ]
    }
   ],
   "source": [
    "#Pandas\n",
    "cities_dataset = pd.read_csv(file_route, sep=\"|\", header=0, engine=\"python\")\n",
    "florida_cities = set(cities_dataset[cities_dataset[\"State full\"] == \"Florida\"][\"City\"])\n",
    "\n",
    "print(f\"El numero de ciudades que tiene el estado de Florida es {len(florida_cities)}\")"
   ]
  },
  {
   "cell_type": "code",
   "execution_count": 4,
   "id": "91e90f19-5cd1-4135-b887-82dca50a9e4f",
   "metadata": {
    "tags": []
   },
   "outputs": [
    {
     "name": "stdout",
     "output_type": "stream",
     "text": [
      "El numero de ciudades que tiene el estado de Florida es 537\n"
     ]
    }
   ],
   "source": [
    "#Python\n",
    "with open(file_route) as csv_file:\n",
    "    csv_reader = csv.DictReader(csv_file, delimiter=\"|\")\n",
    "    \n",
    "    florida_cities_py = set()\n",
    "    \n",
    "    for line in csv_reader:\n",
    "        if line[\"State full\"] == \"Florida\":\n",
    "            florida_cities_py.add(line[\"City\"])\n",
    "    \n",
    "    print(f\"El numero de ciudades que tiene el estado de Florida es {len(florida_cities_py)}\")"
   ]
  },
  {
   "cell_type": "markdown",
   "id": "controlling-referral",
   "metadata": {},
   "source": [
    "### A2 - 15%\n",
    "- Genera una matriz con valores aleatorios de 0 a 100 de dimensiones 16x16\n",
    "- Calcula los siguentes estadísticos en la matriz anterior, por fila (el resultado de cada uno debe ser un array de dimensiones 16x1)\n",
    "  - Suma de los elementos de cada fila\n",
    "  - Media de los elementos de cada fila\n",
    "  - Valores mínimos de cada fila\n",
    "  - Valores máximos de cada fila"
   ]
  },
  {
   "cell_type": "code",
   "execution_count": 15,
   "id": "6affdad5-1876-4f07-bdbc-f5e35de9f957",
   "metadata": {
    "tags": []
   },
   "outputs": [
    {
     "data": {
      "text/plain": [
       "array([[ 49,  60,  91,   5,   1,  44,   9,  22,  64,  41,  25,   1,  76,\n",
       "         48,  32,  58],\n",
       "       [ 22,  80,  31,  47,  21,  96,  17,  70,  21,  15,   1,  28,  35,\n",
       "         13,  80,  45],\n",
       "       [ 41,  89,  15,   4,  74,  16,  80,  55,  77,  61,  88,   3,  43,\n",
       "         54,  71,  34],\n",
       "       [ 30,  13,  91,  32,  45,  77,  48,  44,  61,  71,  96,  46,  58,\n",
       "         16,  78,  81],\n",
       "       [ 80,  86,  73,  48,  76,  63,  70,  88,  18,  12,  42,  72,  18,\n",
       "         90,  73,  75],\n",
       "       [ 17,  54,  27,  58,  86,  69,  36,  69,  82,  61,  18,  29,  18,\n",
       "         82,  16,  73],\n",
       "       [ 38,  36,  48,  70,  15,  69,  72,   1,  57,  61,  24,  11,  50,\n",
       "         40,  21,  73],\n",
       "       [ 57,  35,  63,  44,  90,  53,  52,  27,  35,  23,  34,   2,  23,\n",
       "         62,  51,  54],\n",
       "       [ 41,  97,  91,  66,  95,  80,  47,  30,  23,  75,   2,  32,  57,\n",
       "         36,  29,  31],\n",
       "       [ 40,  94,  74,  25,  48,  51,  11,  42,   3,  19,  11,  65,  13,\n",
       "         51,  41,  61],\n",
       "       [  3,   1,   4,   4,  41,  84,   0,  74,  66,  68,  10,  94,  83,\n",
       "         38,  87,  15],\n",
       "       [ 82,  60,  95,  39,  58,  12,  51,  91,  82,   8,  38,  19,  16,\n",
       "         26,  59,  71],\n",
       "       [ 22,  12,  27,  53,  54,  27,  25,   9,  12,  84,  41,  25,  26,\n",
       "          6,  14,  35],\n",
       "       [ 93,  89,  44,  17,  85, 100,  21,  90,  88,  67,  23,  39,  33,\n",
       "         11,  18,   1],\n",
       "       [  7,  85,  31,  90,   8,  62,  53,  69,  96,  55,   2,  12,  51,\n",
       "         35,  62,   1],\n",
       "       [ 25,  38,  76,  88,   2,  54,  41,  47,  12,  57,  54,  29,  55,\n",
       "         45,  25,  73]])"
      ]
     },
     "execution_count": 15,
     "metadata": {},
     "output_type": "execute_result"
    }
   ],
   "source": [
    "#Crear array\n",
    "random_matrix = np.random.randint(low = 0, high = 101, size=(16,16))\n",
    "\n",
    "random_matrix"
   ]
  },
  {
   "cell_type": "code",
   "execution_count": 16,
   "id": "8aa4a5b3-3ee3-4d0e-bf55-5c0d9372f5f9",
   "metadata": {
    "tags": []
   },
   "outputs": [
    {
     "name": "stdout",
     "output_type": "stream",
     "text": [
      "[[626]\n",
      " [622]\n",
      " [805]\n",
      " [887]\n",
      " [984]\n",
      " [795]\n",
      " [686]\n",
      " [705]\n",
      " [832]\n",
      " [649]\n",
      " [672]\n",
      " [807]\n",
      " [472]\n",
      " [819]\n",
      " [719]\n",
      " [721]]\n"
     ]
    }
   ],
   "source": [
    "#Suma de cada fila       \n",
    "sum_of_rows = random_matrix.sum(axis=1).reshape(16,1)\n",
    "print(sum_of_rows)"
   ]
  },
  {
   "cell_type": "code",
   "execution_count": 17,
   "id": "caf4f215-d9df-46bc-b7e1-898141e2442e",
   "metadata": {
    "tags": []
   },
   "outputs": [
    {
     "name": "stdout",
     "output_type": "stream",
     "text": [
      "[[39]\n",
      " [38]\n",
      " [50]\n",
      " [55]\n",
      " [61]\n",
      " [49]\n",
      " [42]\n",
      " [44]\n",
      " [52]\n",
      " [40]\n",
      " [42]\n",
      " [50]\n",
      " [29]\n",
      " [51]\n",
      " [44]\n",
      " [45]]\n"
     ]
    }
   ],
   "source": [
    "#Media de cada fila\n",
    "mean_of_rows = random_matrix.mean(axis=1, dtype=\"int64\").reshape(16,1)\n",
    "print(mean_of_rows)"
   ]
  },
  {
   "cell_type": "code",
   "execution_count": 18,
   "id": "821b1559-acb3-4e7f-8cb6-9c7b1b4b9146",
   "metadata": {
    "tags": []
   },
   "outputs": [
    {
     "name": "stdout",
     "output_type": "stream",
     "text": [
      "[[ 1]\n",
      " [ 1]\n",
      " [ 3]\n",
      " [13]\n",
      " [12]\n",
      " [16]\n",
      " [ 1]\n",
      " [ 2]\n",
      " [ 2]\n",
      " [ 3]\n",
      " [ 0]\n",
      " [ 8]\n",
      " [ 6]\n",
      " [ 1]\n",
      " [ 1]\n",
      " [ 2]]\n"
     ]
    }
   ],
   "source": [
    "#Valor minimo de cada fila\n",
    "min_of_rows = random_matrix.min(axis=1).reshape(16,1)\n",
    "print(min_of_rows)"
   ]
  },
  {
   "cell_type": "code",
   "execution_count": 19,
   "id": "ca4bac6f-7559-4d88-9072-69b53383f3f1",
   "metadata": {
    "tags": []
   },
   "outputs": [
    {
     "name": "stdout",
     "output_type": "stream",
     "text": [
      "[[ 91]\n",
      " [ 96]\n",
      " [ 89]\n",
      " [ 96]\n",
      " [ 90]\n",
      " [ 86]\n",
      " [ 73]\n",
      " [ 90]\n",
      " [ 97]\n",
      " [ 94]\n",
      " [ 94]\n",
      " [ 95]\n",
      " [ 84]\n",
      " [100]\n",
      " [ 96]\n",
      " [ 88]]\n"
     ]
    }
   ],
   "source": [
    "#Valor maximo de cada fila\n",
    "max_of_rows = random_matrix.max(axis=1).reshape(16,1)\n",
    "print(max_of_rows)"
   ]
  },
  {
   "cell_type": "markdown",
   "id": "improving-championship",
   "metadata": {
    "tags": []
   },
   "source": [
    "### A3 - 10%\n",
    "- Explica y expón, con un ejemplo propio, el broadcasting de NumPy"
   ]
  },
  {
   "cell_type": "markdown",
   "id": "5638fd13-7685-40fa-91cb-1b60ed2190d4",
   "metadata": {
    "tags": []
   },
   "source": [
    "<div style=\"text-align: justify\"> El broadcasting de NumPy se refiere a como NumPy considera dos matrices de diferentes tamaños al momento de hacer operaciones entre estas, para ello NumPy extiende la matriz mas pequeña para que tenga la misma dimension que la mas grande. Antes de hacer la operacion NumPy verifica que las dimensiones sean compatibles, estas son compatibles si son iguales o una de ellas es 1</div>"
   ]
  },
  {
   "cell_type": "code",
   "execution_count": 115,
   "id": "b1d70098-3477-45fe-86c4-1bbbfff636f1",
   "metadata": {
    "tags": []
   },
   "outputs": [
    {
     "name": "stdout",
     "output_type": "stream",
     "text": [
      "[[ 2  3  3  4]\n",
      " [ 5  1  4  4]\n",
      " [10  5  6  8]] \n",
      "\n",
      "[[1 3 2 3]] \n",
      "\n",
      "[[1 3 3 3]\n",
      " [1 3 3 3]\n",
      " [1 3 3 3]] \n",
      "\n",
      "[[ 1  0  1  1]\n",
      " [ 4 -2  2  1]\n",
      " [ 9  2  4  5]]\n"
     ]
    }
   ],
   "source": [
    "#Ejemplo\n",
    "\n",
    "a = np.array([[2,3,3,4],[5,1,4,4],[10,5,6,8]])\n",
    "print(a, \"\\n\")\n",
    "b = np.array([[1,3,2,3]])\n",
    "print(b, \"\\n\")\n",
    "\n",
    "#Numpy extendera b para tener la misma dimensiones de a quedando asi:\n",
    "b_extended = np.array([[1,3,3,3],[1,3,3,3],[1,3,3,3]])\n",
    "print(b_extended,\"\\n\")     \n",
    "\n",
    "#Y luego hara la operacion indicada:\n",
    "print(a-b)"
   ]
  },
  {
   "cell_type": "markdown",
   "id": "announced-mortality",
   "metadata": {},
   "source": [
    "### A4 - 10%\n",
    "- Resolución de dos sistemas de ecuaciones\n",
    "    - $ A : \\begin{cases} -9y +  4x = 20 \\\\ -7y + 16x = 80                         \\end{cases}$\n",
    "    \n",
    "    - $ B : \\begin{cases} x - 2y + 3z = 7 \\\\ 2x + y + z = 4 \\\\ -3x + 2y -2z = -10 \\end{cases}$"
   ]
  },
  {
   "cell_type": "code",
   "execution_count": 11,
   "id": "25afe2f5-4908-49ea-a81f-65777b701f19",
   "metadata": {
    "tags": []
   },
   "outputs": [
    {
     "name": "stdout",
     "output_type": "stream",
     "text": [
      "Para el sistema de ecuaciones A, el valor de X es 5 y el valor de Y es 0\n"
     ]
    }
   ],
   "source": [
    "import numpy.linalg as linalg\n",
    "\n",
    "#Sistema de ecuaciones A\n",
    "\n",
    "a = np.array([[-9, 4],[-7,16]])\n",
    "b = np.array([20,80])\n",
    "\n",
    "y, x = linalg.solve(a,b)\n",
    "\n",
    "print(f\"Para el sistema de ecuaciones A, el valor de X es {int(x)} y el valor de Y es {int(y)}\")"
   ]
  },
  {
   "cell_type": "code",
   "execution_count": 12,
   "id": "bd5baf17-c3a4-4253-a376-6abf17155468",
   "metadata": {
    "tags": []
   },
   "outputs": [
    {
     "name": "stdout",
     "output_type": "stream",
     "text": [
      "Para el sistema de ecuaciones B, el valor de X es 2, el valor de Y es 0 y el valor de Z es 1\n"
     ]
    }
   ],
   "source": [
    "#Sistema de ecuaciones B\n",
    "\n",
    "c = np.array([[1,-2,3],[2,1,1],[-3,2,-2]])\n",
    "d = np.array([7,4,-10])\n",
    "\n",
    "x, y, z = linalg.solve(c,d)\n",
    "\n",
    "print(f\"Para el sistema de ecuaciones B, el valor de X es {int(x)}, el valor de Y es {int(y)} y el valor de Z es {int(z)}\")"
   ]
  },
  {
   "cell_type": "markdown",
   "id": "grave-summer",
   "metadata": {},
   "source": [
    "### A5 - 15%\n",
    "- Crear un DataFrame de dimensiones 10x10, con números aleatorios en el rango `[0,20]`\n",
    "- Reemplazar todos aquellos elementos menores de 5 por NaN\n",
    "- Averiguar cuantos elementos tienen Nan por fila"
   ]
  },
  {
   "cell_type": "code",
   "execution_count": 25,
   "id": "f6d0e2c2-73b5-4db2-9a72-7d936304382b",
   "metadata": {
    "tags": []
   },
   "outputs": [
    {
     "data": {
      "text/html": [
       "<div>\n",
       "<style scoped>\n",
       "    .dataframe tbody tr th:only-of-type {\n",
       "        vertical-align: middle;\n",
       "    }\n",
       "\n",
       "    .dataframe tbody tr th {\n",
       "        vertical-align: top;\n",
       "    }\n",
       "\n",
       "    .dataframe thead th {\n",
       "        text-align: right;\n",
       "    }\n",
       "</style>\n",
       "<table border=\"1\" class=\"dataframe\">\n",
       "  <thead>\n",
       "    <tr style=\"text-align: right;\">\n",
       "      <th></th>\n",
       "      <th>A</th>\n",
       "      <th>B</th>\n",
       "      <th>C</th>\n",
       "      <th>D</th>\n",
       "      <th>E</th>\n",
       "      <th>F</th>\n",
       "      <th>G</th>\n",
       "      <th>H</th>\n",
       "      <th>I</th>\n",
       "      <th>J</th>\n",
       "    </tr>\n",
       "  </thead>\n",
       "  <tbody>\n",
       "    <tr>\n",
       "      <th>0</th>\n",
       "      <td>14</td>\n",
       "      <td>15</td>\n",
       "      <td>20</td>\n",
       "      <td>19</td>\n",
       "      <td>11</td>\n",
       "      <td>19</td>\n",
       "      <td>16</td>\n",
       "      <td>7</td>\n",
       "      <td>8</td>\n",
       "      <td>10</td>\n",
       "    </tr>\n",
       "    <tr>\n",
       "      <th>1</th>\n",
       "      <td>2</td>\n",
       "      <td>6</td>\n",
       "      <td>18</td>\n",
       "      <td>2</td>\n",
       "      <td>19</td>\n",
       "      <td>9</td>\n",
       "      <td>19</td>\n",
       "      <td>19</td>\n",
       "      <td>20</td>\n",
       "      <td>18</td>\n",
       "    </tr>\n",
       "    <tr>\n",
       "      <th>2</th>\n",
       "      <td>17</td>\n",
       "      <td>16</td>\n",
       "      <td>3</td>\n",
       "      <td>0</td>\n",
       "      <td>4</td>\n",
       "      <td>3</td>\n",
       "      <td>1</td>\n",
       "      <td>19</td>\n",
       "      <td>19</td>\n",
       "      <td>0</td>\n",
       "    </tr>\n",
       "    <tr>\n",
       "      <th>3</th>\n",
       "      <td>18</td>\n",
       "      <td>0</td>\n",
       "      <td>18</td>\n",
       "      <td>17</td>\n",
       "      <td>14</td>\n",
       "      <td>3</td>\n",
       "      <td>6</td>\n",
       "      <td>4</td>\n",
       "      <td>11</td>\n",
       "      <td>6</td>\n",
       "    </tr>\n",
       "    <tr>\n",
       "      <th>4</th>\n",
       "      <td>3</td>\n",
       "      <td>4</td>\n",
       "      <td>6</td>\n",
       "      <td>1</td>\n",
       "      <td>3</td>\n",
       "      <td>11</td>\n",
       "      <td>17</td>\n",
       "      <td>3</td>\n",
       "      <td>16</td>\n",
       "      <td>15</td>\n",
       "    </tr>\n",
       "    <tr>\n",
       "      <th>5</th>\n",
       "      <td>12</td>\n",
       "      <td>6</td>\n",
       "      <td>15</td>\n",
       "      <td>6</td>\n",
       "      <td>19</td>\n",
       "      <td>1</td>\n",
       "      <td>19</td>\n",
       "      <td>1</td>\n",
       "      <td>16</td>\n",
       "      <td>8</td>\n",
       "    </tr>\n",
       "    <tr>\n",
       "      <th>6</th>\n",
       "      <td>16</td>\n",
       "      <td>11</td>\n",
       "      <td>11</td>\n",
       "      <td>7</td>\n",
       "      <td>8</td>\n",
       "      <td>15</td>\n",
       "      <td>17</td>\n",
       "      <td>13</td>\n",
       "      <td>15</td>\n",
       "      <td>0</td>\n",
       "    </tr>\n",
       "    <tr>\n",
       "      <th>7</th>\n",
       "      <td>3</td>\n",
       "      <td>10</td>\n",
       "      <td>13</td>\n",
       "      <td>0</td>\n",
       "      <td>13</td>\n",
       "      <td>15</td>\n",
       "      <td>19</td>\n",
       "      <td>2</td>\n",
       "      <td>10</td>\n",
       "      <td>14</td>\n",
       "    </tr>\n",
       "    <tr>\n",
       "      <th>8</th>\n",
       "      <td>14</td>\n",
       "      <td>8</td>\n",
       "      <td>14</td>\n",
       "      <td>20</td>\n",
       "      <td>17</td>\n",
       "      <td>20</td>\n",
       "      <td>0</td>\n",
       "      <td>6</td>\n",
       "      <td>1</td>\n",
       "      <td>16</td>\n",
       "    </tr>\n",
       "    <tr>\n",
       "      <th>9</th>\n",
       "      <td>3</td>\n",
       "      <td>17</td>\n",
       "      <td>13</td>\n",
       "      <td>10</td>\n",
       "      <td>1</td>\n",
       "      <td>6</td>\n",
       "      <td>20</td>\n",
       "      <td>5</td>\n",
       "      <td>12</td>\n",
       "      <td>8</td>\n",
       "    </tr>\n",
       "  </tbody>\n",
       "</table>\n",
       "</div>"
      ],
      "text/plain": [
       "    A   B   C   D   E   F   G   H   I   J\n",
       "0  14  15  20  19  11  19  16   7   8  10\n",
       "1   2   6  18   2  19   9  19  19  20  18\n",
       "2  17  16   3   0   4   3   1  19  19   0\n",
       "3  18   0  18  17  14   3   6   4  11   6\n",
       "4   3   4   6   1   3  11  17   3  16  15\n",
       "5  12   6  15   6  19   1  19   1  16   8\n",
       "6  16  11  11   7   8  15  17  13  15   0\n",
       "7   3  10  13   0  13  15  19   2  10  14\n",
       "8  14   8  14  20  17  20   0   6   1  16\n",
       "9   3  17  13  10   1   6  20   5  12   8"
      ]
     },
     "metadata": {},
     "output_type": "display_data"
    }
   ],
   "source": [
    "#Crear array con numeros aleatrios de 10x10\n",
    "number_array = np.random.randint(low = 0, high = 21, size=(10,10))\n",
    "\n",
    "#Transformar a DataFrame de pandas\n",
    "number_dataset = pd.DataFrame(number_array, columns = [\"A\", \"B\", \"C\", \"D\", \"E\", \"F\", \"G\", \"H\", \"I\", \"J\"])\n",
    "\n",
    "display(number_dataset)"
   ]
  },
  {
   "cell_type": "code",
   "execution_count": 26,
   "id": "d9e9523a-6c55-4c2f-884c-4d8681589232",
   "metadata": {
    "tags": []
   },
   "outputs": [
    {
     "data": {
      "text/html": [
       "<div>\n",
       "<style scoped>\n",
       "    .dataframe tbody tr th:only-of-type {\n",
       "        vertical-align: middle;\n",
       "    }\n",
       "\n",
       "    .dataframe tbody tr th {\n",
       "        vertical-align: top;\n",
       "    }\n",
       "\n",
       "    .dataframe thead th {\n",
       "        text-align: right;\n",
       "    }\n",
       "</style>\n",
       "<table border=\"1\" class=\"dataframe\">\n",
       "  <thead>\n",
       "    <tr style=\"text-align: right;\">\n",
       "      <th></th>\n",
       "      <th>A</th>\n",
       "      <th>B</th>\n",
       "      <th>C</th>\n",
       "      <th>D</th>\n",
       "      <th>E</th>\n",
       "      <th>F</th>\n",
       "      <th>G</th>\n",
       "      <th>H</th>\n",
       "      <th>I</th>\n",
       "      <th>J</th>\n",
       "    </tr>\n",
       "  </thead>\n",
       "  <tbody>\n",
       "    <tr>\n",
       "      <th>0</th>\n",
       "      <td>14.0</td>\n",
       "      <td>15.0</td>\n",
       "      <td>20.0</td>\n",
       "      <td>19.0</td>\n",
       "      <td>11.0</td>\n",
       "      <td>19.0</td>\n",
       "      <td>16.0</td>\n",
       "      <td>7.0</td>\n",
       "      <td>8.0</td>\n",
       "      <td>10.0</td>\n",
       "    </tr>\n",
       "    <tr>\n",
       "      <th>1</th>\n",
       "      <td>NaN</td>\n",
       "      <td>6.0</td>\n",
       "      <td>18.0</td>\n",
       "      <td>NaN</td>\n",
       "      <td>19.0</td>\n",
       "      <td>9.0</td>\n",
       "      <td>19.0</td>\n",
       "      <td>19.0</td>\n",
       "      <td>20.0</td>\n",
       "      <td>18.0</td>\n",
       "    </tr>\n",
       "    <tr>\n",
       "      <th>2</th>\n",
       "      <td>17.0</td>\n",
       "      <td>16.0</td>\n",
       "      <td>NaN</td>\n",
       "      <td>NaN</td>\n",
       "      <td>NaN</td>\n",
       "      <td>NaN</td>\n",
       "      <td>NaN</td>\n",
       "      <td>19.0</td>\n",
       "      <td>19.0</td>\n",
       "      <td>NaN</td>\n",
       "    </tr>\n",
       "    <tr>\n",
       "      <th>3</th>\n",
       "      <td>18.0</td>\n",
       "      <td>NaN</td>\n",
       "      <td>18.0</td>\n",
       "      <td>17.0</td>\n",
       "      <td>14.0</td>\n",
       "      <td>NaN</td>\n",
       "      <td>6.0</td>\n",
       "      <td>NaN</td>\n",
       "      <td>11.0</td>\n",
       "      <td>6.0</td>\n",
       "    </tr>\n",
       "    <tr>\n",
       "      <th>4</th>\n",
       "      <td>NaN</td>\n",
       "      <td>NaN</td>\n",
       "      <td>6.0</td>\n",
       "      <td>NaN</td>\n",
       "      <td>NaN</td>\n",
       "      <td>11.0</td>\n",
       "      <td>17.0</td>\n",
       "      <td>NaN</td>\n",
       "      <td>16.0</td>\n",
       "      <td>15.0</td>\n",
       "    </tr>\n",
       "    <tr>\n",
       "      <th>5</th>\n",
       "      <td>12.0</td>\n",
       "      <td>6.0</td>\n",
       "      <td>15.0</td>\n",
       "      <td>6.0</td>\n",
       "      <td>19.0</td>\n",
       "      <td>NaN</td>\n",
       "      <td>19.0</td>\n",
       "      <td>NaN</td>\n",
       "      <td>16.0</td>\n",
       "      <td>8.0</td>\n",
       "    </tr>\n",
       "    <tr>\n",
       "      <th>6</th>\n",
       "      <td>16.0</td>\n",
       "      <td>11.0</td>\n",
       "      <td>11.0</td>\n",
       "      <td>7.0</td>\n",
       "      <td>8.0</td>\n",
       "      <td>15.0</td>\n",
       "      <td>17.0</td>\n",
       "      <td>13.0</td>\n",
       "      <td>15.0</td>\n",
       "      <td>NaN</td>\n",
       "    </tr>\n",
       "    <tr>\n",
       "      <th>7</th>\n",
       "      <td>NaN</td>\n",
       "      <td>10.0</td>\n",
       "      <td>13.0</td>\n",
       "      <td>NaN</td>\n",
       "      <td>13.0</td>\n",
       "      <td>15.0</td>\n",
       "      <td>19.0</td>\n",
       "      <td>NaN</td>\n",
       "      <td>10.0</td>\n",
       "      <td>14.0</td>\n",
       "    </tr>\n",
       "    <tr>\n",
       "      <th>8</th>\n",
       "      <td>14.0</td>\n",
       "      <td>8.0</td>\n",
       "      <td>14.0</td>\n",
       "      <td>20.0</td>\n",
       "      <td>17.0</td>\n",
       "      <td>20.0</td>\n",
       "      <td>NaN</td>\n",
       "      <td>6.0</td>\n",
       "      <td>NaN</td>\n",
       "      <td>16.0</td>\n",
       "    </tr>\n",
       "    <tr>\n",
       "      <th>9</th>\n",
       "      <td>NaN</td>\n",
       "      <td>17.0</td>\n",
       "      <td>13.0</td>\n",
       "      <td>10.0</td>\n",
       "      <td>NaN</td>\n",
       "      <td>6.0</td>\n",
       "      <td>20.0</td>\n",
       "      <td>5.0</td>\n",
       "      <td>12.0</td>\n",
       "      <td>8.0</td>\n",
       "    </tr>\n",
       "  </tbody>\n",
       "</table>\n",
       "</div>"
      ],
      "text/plain": [
       "      A     B     C     D     E     F     G     H     I     J\n",
       "0  14.0  15.0  20.0  19.0  11.0  19.0  16.0   7.0   8.0  10.0\n",
       "1   NaN   6.0  18.0   NaN  19.0   9.0  19.0  19.0  20.0  18.0\n",
       "2  17.0  16.0   NaN   NaN   NaN   NaN   NaN  19.0  19.0   NaN\n",
       "3  18.0   NaN  18.0  17.0  14.0   NaN   6.0   NaN  11.0   6.0\n",
       "4   NaN   NaN   6.0   NaN   NaN  11.0  17.0   NaN  16.0  15.0\n",
       "5  12.0   6.0  15.0   6.0  19.0   NaN  19.0   NaN  16.0   8.0\n",
       "6  16.0  11.0  11.0   7.0   8.0  15.0  17.0  13.0  15.0   NaN\n",
       "7   NaN  10.0  13.0   NaN  13.0  15.0  19.0   NaN  10.0  14.0\n",
       "8  14.0   8.0  14.0  20.0  17.0  20.0   NaN   6.0   NaN  16.0\n",
       "9   NaN  17.0  13.0  10.0   NaN   6.0  20.0   5.0  12.0   8.0"
      ]
     },
     "metadata": {},
     "output_type": "display_data"
    }
   ],
   "source": [
    "#Reemplazar todos aquellos elementos menores de 5 por NaN\n",
    "number_dataset[number_dataset < 5] = np.nan\n",
    "\n",
    "display(number_dataset)"
   ]
  },
  {
   "cell_type": "code",
   "execution_count": 28,
   "id": "1279d02a-3a9c-475a-a97c-402f0ce56f5e",
   "metadata": {
    "tags": []
   },
   "outputs": [
    {
     "name": "stdout",
     "output_type": "stream",
     "text": [
      "La fila 0 tiene 0 NaN\n",
      "La fila 1 tiene 2 NaN\n",
      "La fila 2 tiene 6 NaN\n",
      "La fila 3 tiene 3 NaN\n",
      "La fila 4 tiene 5 NaN\n",
      "La fila 5 tiene 2 NaN\n",
      "La fila 6 tiene 1 NaN\n",
      "La fila 7 tiene 3 NaN\n",
      "La fila 8 tiene 2 NaN\n",
      "La fila 9 tiene 2 NaN\n"
     ]
    }
   ],
   "source": [
    "#Averiguar cuantos elementos tienen Nan por fila\n",
    "number_of_nan_per_row = dict(number_dataset.isna().sum(axis=1))\n",
    "\n",
    "for key in number_of_nan_per_row:\n",
    "    print(f\"La fila {key} tiene {number_of_nan_per_row[key]} NaN\")"
   ]
  },
  {
   "cell_type": "markdown",
   "id": "acceptable-manner",
   "metadata": {},
   "source": [
    "### A6 - 20%\n",
    "- Se tienen tres datasets, se adjuntan sus datos como diccionarios\n",
    "  - Students, representa un conjunto de alumnos, con sus nombres, edad y sexo\n",
    "  - Subjects, un conjunto de asignaturas, con su nombre y el semestre en que se imparten\n",
    "  - Marks, un conjunto de notas que han obtenido los alumnos en las asignaturas\n",
    "- Obtener la siguiente información usando Pandas\n",
    "  - El nombre del alumno con la mejor nota, y en que asignatura ha sido\n",
    "  - Cuantos alumnos tienen asignaturas suspendidas en el primer semestre\n",
    "  - La media de edad de los asistentes a la asignatura de Python\n",
    "  - Formar una palabra con las iniciales de los nombres de los estudiantes ordenados por edad\n",
    "- Representar graficamente\n",
    "  - Las notas medias de todos los estudiantes por asignatura, agrupando por sexo\n",
    "  - La densidad bivariable de la edad de los estudiantes frente a sus notas, agrupando por sexo (mostrando los datos de dispersion en la zona central, las curvas de densidad en los ejes)"
   ]
  },
  {
   "cell_type": "code",
   "execution_count": 30,
   "id": "radio-theory",
   "metadata": {},
   "outputs": [],
   "source": [
    "students = {'StudentId': [1,2,3,4,5,6], 'Name' : ['Yael','Thomas','Paula','Orlando','Hannah','Nicole'], 'Age' : [22,31,19,44,39,51], 'Sex' : ['M', 'M', 'F', 'M', 'F', 'F']}\n",
    "subjects = {'SubjectId': [1,2,3], 'Name': ['Python', 'Math', 'DeepLearning'], 'Semester': [1, 1, 2]}\n",
    "marks = {'StudentId' : [2,2,1,3,6,4,4,3,2,5], 'SubjectId' : [1,3,1,2,1,2,3,1,2,1], 'Mark': [6,5,8,3,5,2,7,2,4,6]}"
   ]
  },
  {
   "cell_type": "code",
   "execution_count": 31,
   "id": "516a68f4-ed76-4cef-b82d-73f2b9326b59",
   "metadata": {
    "tags": []
   },
   "outputs": [
    {
     "data": {
      "text/html": [
       "<div>\n",
       "<style scoped>\n",
       "    .dataframe tbody tr th:only-of-type {\n",
       "        vertical-align: middle;\n",
       "    }\n",
       "\n",
       "    .dataframe tbody tr th {\n",
       "        vertical-align: top;\n",
       "    }\n",
       "\n",
       "    .dataframe thead th {\n",
       "        text-align: right;\n",
       "    }\n",
       "</style>\n",
       "<table border=\"1\" class=\"dataframe\">\n",
       "  <thead>\n",
       "    <tr style=\"text-align: right;\">\n",
       "      <th></th>\n",
       "      <th>StudentId</th>\n",
       "      <th>Name</th>\n",
       "      <th>Age</th>\n",
       "      <th>Sex</th>\n",
       "    </tr>\n",
       "  </thead>\n",
       "  <tbody>\n",
       "    <tr>\n",
       "      <th>0</th>\n",
       "      <td>1</td>\n",
       "      <td>Yael</td>\n",
       "      <td>22</td>\n",
       "      <td>M</td>\n",
       "    </tr>\n",
       "    <tr>\n",
       "      <th>1</th>\n",
       "      <td>2</td>\n",
       "      <td>Thomas</td>\n",
       "      <td>31</td>\n",
       "      <td>M</td>\n",
       "    </tr>\n",
       "    <tr>\n",
       "      <th>2</th>\n",
       "      <td>3</td>\n",
       "      <td>Paula</td>\n",
       "      <td>19</td>\n",
       "      <td>F</td>\n",
       "    </tr>\n",
       "    <tr>\n",
       "      <th>3</th>\n",
       "      <td>4</td>\n",
       "      <td>Orlando</td>\n",
       "      <td>44</td>\n",
       "      <td>M</td>\n",
       "    </tr>\n",
       "    <tr>\n",
       "      <th>4</th>\n",
       "      <td>5</td>\n",
       "      <td>Hannah</td>\n",
       "      <td>39</td>\n",
       "      <td>F</td>\n",
       "    </tr>\n",
       "    <tr>\n",
       "      <th>5</th>\n",
       "      <td>6</td>\n",
       "      <td>Nicole</td>\n",
       "      <td>51</td>\n",
       "      <td>F</td>\n",
       "    </tr>\n",
       "  </tbody>\n",
       "</table>\n",
       "</div>"
      ],
      "text/plain": [
       "   StudentId     Name  Age Sex\n",
       "0          1     Yael   22   M\n",
       "1          2   Thomas   31   M\n",
       "2          3    Paula   19   F\n",
       "3          4  Orlando   44   M\n",
       "4          5   Hannah   39   F\n",
       "5          6   Nicole   51   F"
      ]
     },
     "metadata": {},
     "output_type": "display_data"
    },
    {
     "data": {
      "text/html": [
       "<div>\n",
       "<style scoped>\n",
       "    .dataframe tbody tr th:only-of-type {\n",
       "        vertical-align: middle;\n",
       "    }\n",
       "\n",
       "    .dataframe tbody tr th {\n",
       "        vertical-align: top;\n",
       "    }\n",
       "\n",
       "    .dataframe thead th {\n",
       "        text-align: right;\n",
       "    }\n",
       "</style>\n",
       "<table border=\"1\" class=\"dataframe\">\n",
       "  <thead>\n",
       "    <tr style=\"text-align: right;\">\n",
       "      <th></th>\n",
       "      <th>SubjectId</th>\n",
       "      <th>Name</th>\n",
       "      <th>Semester</th>\n",
       "    </tr>\n",
       "  </thead>\n",
       "  <tbody>\n",
       "    <tr>\n",
       "      <th>0</th>\n",
       "      <td>1</td>\n",
       "      <td>Python</td>\n",
       "      <td>1</td>\n",
       "    </tr>\n",
       "    <tr>\n",
       "      <th>1</th>\n",
       "      <td>2</td>\n",
       "      <td>Math</td>\n",
       "      <td>1</td>\n",
       "    </tr>\n",
       "    <tr>\n",
       "      <th>2</th>\n",
       "      <td>3</td>\n",
       "      <td>DeepLearning</td>\n",
       "      <td>2</td>\n",
       "    </tr>\n",
       "  </tbody>\n",
       "</table>\n",
       "</div>"
      ],
      "text/plain": [
       "   SubjectId          Name  Semester\n",
       "0          1        Python         1\n",
       "1          2          Math         1\n",
       "2          3  DeepLearning         2"
      ]
     },
     "metadata": {},
     "output_type": "display_data"
    },
    {
     "data": {
      "text/html": [
       "<div>\n",
       "<style scoped>\n",
       "    .dataframe tbody tr th:only-of-type {\n",
       "        vertical-align: middle;\n",
       "    }\n",
       "\n",
       "    .dataframe tbody tr th {\n",
       "        vertical-align: top;\n",
       "    }\n",
       "\n",
       "    .dataframe thead th {\n",
       "        text-align: right;\n",
       "    }\n",
       "</style>\n",
       "<table border=\"1\" class=\"dataframe\">\n",
       "  <thead>\n",
       "    <tr style=\"text-align: right;\">\n",
       "      <th></th>\n",
       "      <th>StudentId</th>\n",
       "      <th>SubjectId</th>\n",
       "      <th>Mark</th>\n",
       "    </tr>\n",
       "  </thead>\n",
       "  <tbody>\n",
       "    <tr>\n",
       "      <th>0</th>\n",
       "      <td>2</td>\n",
       "      <td>1</td>\n",
       "      <td>6</td>\n",
       "    </tr>\n",
       "    <tr>\n",
       "      <th>1</th>\n",
       "      <td>2</td>\n",
       "      <td>3</td>\n",
       "      <td>5</td>\n",
       "    </tr>\n",
       "    <tr>\n",
       "      <th>2</th>\n",
       "      <td>1</td>\n",
       "      <td>1</td>\n",
       "      <td>8</td>\n",
       "    </tr>\n",
       "    <tr>\n",
       "      <th>3</th>\n",
       "      <td>3</td>\n",
       "      <td>2</td>\n",
       "      <td>3</td>\n",
       "    </tr>\n",
       "    <tr>\n",
       "      <th>4</th>\n",
       "      <td>6</td>\n",
       "      <td>1</td>\n",
       "      <td>5</td>\n",
       "    </tr>\n",
       "    <tr>\n",
       "      <th>5</th>\n",
       "      <td>4</td>\n",
       "      <td>2</td>\n",
       "      <td>2</td>\n",
       "    </tr>\n",
       "    <tr>\n",
       "      <th>6</th>\n",
       "      <td>4</td>\n",
       "      <td>3</td>\n",
       "      <td>7</td>\n",
       "    </tr>\n",
       "    <tr>\n",
       "      <th>7</th>\n",
       "      <td>3</td>\n",
       "      <td>1</td>\n",
       "      <td>2</td>\n",
       "    </tr>\n",
       "    <tr>\n",
       "      <th>8</th>\n",
       "      <td>2</td>\n",
       "      <td>2</td>\n",
       "      <td>4</td>\n",
       "    </tr>\n",
       "    <tr>\n",
       "      <th>9</th>\n",
       "      <td>5</td>\n",
       "      <td>1</td>\n",
       "      <td>6</td>\n",
       "    </tr>\n",
       "  </tbody>\n",
       "</table>\n",
       "</div>"
      ],
      "text/plain": [
       "   StudentId  SubjectId  Mark\n",
       "0          2          1     6\n",
       "1          2          3     5\n",
       "2          1          1     8\n",
       "3          3          2     3\n",
       "4          6          1     5\n",
       "5          4          2     2\n",
       "6          4          3     7\n",
       "7          3          1     2\n",
       "8          2          2     4\n",
       "9          5          1     6"
      ]
     },
     "metadata": {},
     "output_type": "display_data"
    }
   ],
   "source": [
    "#Crear un DataFrame para cada diccionario\n",
    "\n",
    "students_df = pd.DataFrame(students)\n",
    "subjects_df = pd.DataFrame(subjects)\n",
    "marks_df = pd.DataFrame(marks)\n",
    "\n",
    "display(students_df, subjects_df, marks_df)"
   ]
  },
  {
   "cell_type": "code",
   "execution_count": 40,
   "id": "c1103ab0-a754-48c4-beec-6ad0e955ae00",
   "metadata": {
    "tags": []
   },
   "outputs": [
    {
     "data": {
      "text/html": [
       "<div>\n",
       "<style scoped>\n",
       "    .dataframe tbody tr th:only-of-type {\n",
       "        vertical-align: middle;\n",
       "    }\n",
       "\n",
       "    .dataframe tbody tr th {\n",
       "        vertical-align: top;\n",
       "    }\n",
       "\n",
       "    .dataframe thead th {\n",
       "        text-align: right;\n",
       "    }\n",
       "</style>\n",
       "<table border=\"1\" class=\"dataframe\">\n",
       "  <thead>\n",
       "    <tr style=\"text-align: right;\">\n",
       "      <th></th>\n",
       "      <th>Name_x</th>\n",
       "      <th>Age</th>\n",
       "      <th>Sex</th>\n",
       "      <th>Mark</th>\n",
       "      <th>Subject</th>\n",
       "      <th>Semester</th>\n",
       "    </tr>\n",
       "  </thead>\n",
       "  <tbody>\n",
       "    <tr>\n",
       "      <th>0</th>\n",
       "      <td>Yael</td>\n",
       "      <td>22</td>\n",
       "      <td>M</td>\n",
       "      <td>8</td>\n",
       "      <td>Python</td>\n",
       "      <td>1</td>\n",
       "    </tr>\n",
       "    <tr>\n",
       "      <th>1</th>\n",
       "      <td>Thomas</td>\n",
       "      <td>31</td>\n",
       "      <td>M</td>\n",
       "      <td>6</td>\n",
       "      <td>Python</td>\n",
       "      <td>1</td>\n",
       "    </tr>\n",
       "    <tr>\n",
       "      <th>2</th>\n",
       "      <td>Paula</td>\n",
       "      <td>19</td>\n",
       "      <td>F</td>\n",
       "      <td>2</td>\n",
       "      <td>Python</td>\n",
       "      <td>1</td>\n",
       "    </tr>\n",
       "    <tr>\n",
       "      <th>3</th>\n",
       "      <td>Hannah</td>\n",
       "      <td>39</td>\n",
       "      <td>F</td>\n",
       "      <td>6</td>\n",
       "      <td>Python</td>\n",
       "      <td>1</td>\n",
       "    </tr>\n",
       "    <tr>\n",
       "      <th>4</th>\n",
       "      <td>Nicole</td>\n",
       "      <td>51</td>\n",
       "      <td>F</td>\n",
       "      <td>5</td>\n",
       "      <td>Python</td>\n",
       "      <td>1</td>\n",
       "    </tr>\n",
       "    <tr>\n",
       "      <th>5</th>\n",
       "      <td>Thomas</td>\n",
       "      <td>31</td>\n",
       "      <td>M</td>\n",
       "      <td>4</td>\n",
       "      <td>Math</td>\n",
       "      <td>1</td>\n",
       "    </tr>\n",
       "    <tr>\n",
       "      <th>6</th>\n",
       "      <td>Paula</td>\n",
       "      <td>19</td>\n",
       "      <td>F</td>\n",
       "      <td>3</td>\n",
       "      <td>Math</td>\n",
       "      <td>1</td>\n",
       "    </tr>\n",
       "    <tr>\n",
       "      <th>7</th>\n",
       "      <td>Orlando</td>\n",
       "      <td>44</td>\n",
       "      <td>M</td>\n",
       "      <td>2</td>\n",
       "      <td>Math</td>\n",
       "      <td>1</td>\n",
       "    </tr>\n",
       "    <tr>\n",
       "      <th>8</th>\n",
       "      <td>Thomas</td>\n",
       "      <td>31</td>\n",
       "      <td>M</td>\n",
       "      <td>5</td>\n",
       "      <td>DeepLearning</td>\n",
       "      <td>2</td>\n",
       "    </tr>\n",
       "    <tr>\n",
       "      <th>9</th>\n",
       "      <td>Orlando</td>\n",
       "      <td>44</td>\n",
       "      <td>M</td>\n",
       "      <td>7</td>\n",
       "      <td>DeepLearning</td>\n",
       "      <td>2</td>\n",
       "    </tr>\n",
       "  </tbody>\n",
       "</table>\n",
       "</div>"
      ],
      "text/plain": [
       "    Name_x  Age Sex  Mark       Subject  Semester\n",
       "0     Yael   22   M     8        Python         1\n",
       "1   Thomas   31   M     6        Python         1\n",
       "2    Paula   19   F     2        Python         1\n",
       "3   Hannah   39   F     6        Python         1\n",
       "4   Nicole   51   F     5        Python         1\n",
       "5   Thomas   31   M     4          Math         1\n",
       "6    Paula   19   F     3          Math         1\n",
       "7  Orlando   44   M     2          Math         1\n",
       "8   Thomas   31   M     5  DeepLearning         2\n",
       "9  Orlando   44   M     7  DeepLearning         2"
      ]
     },
     "metadata": {},
     "output_type": "display_data"
    }
   ],
   "source": [
    "#Unir los DataFrame en uno con toda la informacion, uniendolos en sus columnas en comun. \n",
    "#Se elimina columna de Id para tener la informacion mas concisa\n",
    "\n",
    "students_with_marks = pd.merge(students_df, marks_df, on=\"StudentId\", how=\"inner\").drop(\"StudentId\", axis=1)\n",
    "students_with_marks = pd.merge(students_with_marks, subjects_df, on=\"SubjectId\", how=\"right\").drop(\"SubjectId\", axis=1)\n",
    "students_with_marks.rename(columns={\"Name_y\":\"Subject\"}, inplace=True)\n",
    "\n",
    "display(students_with_marks)"
   ]
  },
  {
   "cell_type": "code",
   "execution_count": 42,
   "id": "c08650b9-e09a-48ad-b3c0-afea51fdf4a9",
   "metadata": {
    "tags": []
   },
   "outputs": [
    {
     "name": "stdout",
     "output_type": "stream",
     "text": [
      "El nombre del alumno con la mejor nota es Yael en la asignatura Python\n"
     ]
    }
   ],
   "source": [
    "#El nombre del alumno con la mejor nota, y en que asignatura ha sido\n",
    "\n",
    "best_mark = students_with_marks[\"Mark\"].idxmax()\n",
    "name = students_with_marks.loc[best_mark][\"Name_x\"]\n",
    "subject = students_with_marks.loc[best_mark][\"Subject\"]\n",
    "\n",
    "print(f\"El nombre del alumno con la mejor nota es {name} en la asignatura {subject}\")"
   ]
  },
  {
   "cell_type": "code",
   "execution_count": 43,
   "id": "edd9729a-64e0-400c-826f-f3f0be44d007",
   "metadata": {
    "tags": []
   },
   "outputs": [
    {
     "name": "stdout",
     "output_type": "stream",
     "text": [
      "3 alumnos tienen asignaturas suspendidas en el primer semestre\n"
     ]
    }
   ],
   "source": [
    "#Cuantos alumnos tienen asignaturas suspendidas en el primer semestre\n",
    "\n",
    "failed_students_1st_semester = set(students_with_marks[(students_with_marks[\"Mark\"] < 5) & students_with_marks[\"Semester\"] == 1][\"Name_x\"])\n",
    "\n",
    "print(f\"{len(failed_students_1st_semester)} alumnos tienen asignaturas suspendidas en el primer semestre\")"
   ]
  },
  {
   "cell_type": "code",
   "execution_count": 45,
   "id": "595d555d-4e35-41af-b25a-33d53683a16f",
   "metadata": {
    "tags": []
   },
   "outputs": [
    {
     "name": "stdout",
     "output_type": "stream",
     "text": [
      "La media de edad de los asistentes de la asignatura de Python es 32\n"
     ]
    }
   ],
   "source": [
    "#La media de edad de los asistentes a la asignatura de Python\n",
    "\n",
    "student_age_mean = int(students_with_marks[students_with_marks[\"Subject\"] == \"Python\"][\"Age\"].mean())\n",
    "print(f\"La media de edad de los asistentes de la asignatura de Python es {student_age_mean}\")"
   ]
  },
  {
   "cell_type": "code",
   "execution_count": 79,
   "id": "b21037fd-49bd-4e2e-8fd5-ce355d5e4fec",
   "metadata": {
    "tags": []
   },
   "outputs": [
    {
     "data": {
      "text/html": [
       "<div>\n",
       "<style scoped>\n",
       "    .dataframe tbody tr th:only-of-type {\n",
       "        vertical-align: middle;\n",
       "    }\n",
       "\n",
       "    .dataframe tbody tr th {\n",
       "        vertical-align: top;\n",
       "    }\n",
       "\n",
       "    .dataframe thead th {\n",
       "        text-align: right;\n",
       "    }\n",
       "</style>\n",
       "<table border=\"1\" class=\"dataframe\">\n",
       "  <thead>\n",
       "    <tr style=\"text-align: right;\">\n",
       "      <th></th>\n",
       "      <th>Name_x</th>\n",
       "      <th>Age</th>\n",
       "      <th>Sex</th>\n",
       "      <th>Mark</th>\n",
       "      <th>Subject</th>\n",
       "      <th>Semester</th>\n",
       "    </tr>\n",
       "  </thead>\n",
       "  <tbody>\n",
       "    <tr>\n",
       "      <th>2</th>\n",
       "      <td>Paula</td>\n",
       "      <td>19</td>\n",
       "      <td>F</td>\n",
       "      <td>2</td>\n",
       "      <td>Python</td>\n",
       "      <td>1</td>\n",
       "    </tr>\n",
       "    <tr>\n",
       "      <th>6</th>\n",
       "      <td>Paula</td>\n",
       "      <td>19</td>\n",
       "      <td>F</td>\n",
       "      <td>3</td>\n",
       "      <td>Math</td>\n",
       "      <td>1</td>\n",
       "    </tr>\n",
       "    <tr>\n",
       "      <th>0</th>\n",
       "      <td>Yael</td>\n",
       "      <td>22</td>\n",
       "      <td>M</td>\n",
       "      <td>8</td>\n",
       "      <td>Python</td>\n",
       "      <td>1</td>\n",
       "    </tr>\n",
       "    <tr>\n",
       "      <th>1</th>\n",
       "      <td>Thomas</td>\n",
       "      <td>31</td>\n",
       "      <td>M</td>\n",
       "      <td>6</td>\n",
       "      <td>Python</td>\n",
       "      <td>1</td>\n",
       "    </tr>\n",
       "    <tr>\n",
       "      <th>5</th>\n",
       "      <td>Thomas</td>\n",
       "      <td>31</td>\n",
       "      <td>M</td>\n",
       "      <td>4</td>\n",
       "      <td>Math</td>\n",
       "      <td>1</td>\n",
       "    </tr>\n",
       "    <tr>\n",
       "      <th>8</th>\n",
       "      <td>Thomas</td>\n",
       "      <td>31</td>\n",
       "      <td>M</td>\n",
       "      <td>5</td>\n",
       "      <td>DeepLearning</td>\n",
       "      <td>2</td>\n",
       "    </tr>\n",
       "    <tr>\n",
       "      <th>3</th>\n",
       "      <td>Hannah</td>\n",
       "      <td>39</td>\n",
       "      <td>F</td>\n",
       "      <td>6</td>\n",
       "      <td>Python</td>\n",
       "      <td>1</td>\n",
       "    </tr>\n",
       "    <tr>\n",
       "      <th>7</th>\n",
       "      <td>Orlando</td>\n",
       "      <td>44</td>\n",
       "      <td>M</td>\n",
       "      <td>2</td>\n",
       "      <td>Math</td>\n",
       "      <td>1</td>\n",
       "    </tr>\n",
       "    <tr>\n",
       "      <th>9</th>\n",
       "      <td>Orlando</td>\n",
       "      <td>44</td>\n",
       "      <td>M</td>\n",
       "      <td>7</td>\n",
       "      <td>DeepLearning</td>\n",
       "      <td>2</td>\n",
       "    </tr>\n",
       "    <tr>\n",
       "      <th>4</th>\n",
       "      <td>Nicole</td>\n",
       "      <td>51</td>\n",
       "      <td>F</td>\n",
       "      <td>5</td>\n",
       "      <td>Python</td>\n",
       "      <td>1</td>\n",
       "    </tr>\n",
       "  </tbody>\n",
       "</table>\n",
       "</div>"
      ],
      "text/plain": [
       "    Name_x  Age Sex  Mark       Subject  Semester\n",
       "2    Paula   19   F     2        Python         1\n",
       "6    Paula   19   F     3          Math         1\n",
       "0     Yael   22   M     8        Python         1\n",
       "1   Thomas   31   M     6        Python         1\n",
       "5   Thomas   31   M     4          Math         1\n",
       "8   Thomas   31   M     5  DeepLearning         2\n",
       "3   Hannah   39   F     6        Python         1\n",
       "7  Orlando   44   M     2          Math         1\n",
       "9  Orlando   44   M     7  DeepLearning         2\n",
       "4   Nicole   51   F     5        Python         1"
      ]
     },
     "metadata": {},
     "output_type": "display_data"
    },
    {
     "name": "stdout",
     "output_type": "stream",
     "text": [
      "PYTHON\n"
     ]
    }
   ],
   "source": [
    "#Formar una palabra con las iniciales de los nombres de los estudiantes ordenados por edad\n",
    "\n",
    "display(students_with_marks.sort_values(by = \"Age\"))\n",
    "\n",
    "initial_student_name = list(students_with_marks.sort_values(by = \"Age\")[\"Name_x\"].str[0].drop_duplicates())\n",
    "\n",
    "word_initials = ''\n",
    "\n",
    "for i in initial_student_name:\n",
    "    word_initials += f'{i}'\n",
    "    \n",
    "print(word_initials)"
   ]
  },
  {
   "cell_type": "code",
   "execution_count": null,
   "id": "8a3e6021-417b-4b04-9c9d-a18ec97cc9d8",
   "metadata": {},
   "outputs": [],
   "source": [
    "pip install matplotlib"
   ]
  },
  {
   "cell_type": "code",
   "execution_count": null,
   "id": "72a5a603-e3e6-4763-b319-bc56b159bb71",
   "metadata": {},
   "outputs": [],
   "source": [
    "pip install seaborn"
   ]
  },
  {
   "cell_type": "code",
   "execution_count": 93,
   "id": "8fdd5ce7-1931-434f-958e-6caa8fa11c80",
   "metadata": {
    "tags": []
   },
   "outputs": [
    {
     "data": {
      "text/html": [
       "<div>\n",
       "<style scoped>\n",
       "    .dataframe tbody tr th:only-of-type {\n",
       "        vertical-align: middle;\n",
       "    }\n",
       "\n",
       "    .dataframe tbody tr th {\n",
       "        vertical-align: top;\n",
       "    }\n",
       "\n",
       "    .dataframe thead th {\n",
       "        text-align: right;\n",
       "    }\n",
       "</style>\n",
       "<table border=\"1\" class=\"dataframe\">\n",
       "  <thead>\n",
       "    <tr style=\"text-align: right;\">\n",
       "      <th></th>\n",
       "      <th></th>\n",
       "      <th>mean</th>\n",
       "    </tr>\n",
       "    <tr>\n",
       "      <th>Subject</th>\n",
       "      <th>Sex</th>\n",
       "      <th></th>\n",
       "    </tr>\n",
       "  </thead>\n",
       "  <tbody>\n",
       "    <tr>\n",
       "      <th>DeepLearning</th>\n",
       "      <th>M</th>\n",
       "      <td>6.000000</td>\n",
       "    </tr>\n",
       "    <tr>\n",
       "      <th rowspan=\"2\" valign=\"top\">Math</th>\n",
       "      <th>F</th>\n",
       "      <td>3.000000</td>\n",
       "    </tr>\n",
       "    <tr>\n",
       "      <th>M</th>\n",
       "      <td>3.000000</td>\n",
       "    </tr>\n",
       "    <tr>\n",
       "      <th rowspan=\"2\" valign=\"top\">Python</th>\n",
       "      <th>F</th>\n",
       "      <td>4.333333</td>\n",
       "    </tr>\n",
       "    <tr>\n",
       "      <th>M</th>\n",
       "      <td>7.000000</td>\n",
       "    </tr>\n",
       "  </tbody>\n",
       "</table>\n",
       "</div>"
      ],
      "text/plain": [
       "                      mean\n",
       "Subject      Sex          \n",
       "DeepLearning M    6.000000\n",
       "Math         F    3.000000\n",
       "             M    3.000000\n",
       "Python       F    4.333333\n",
       "             M    7.000000"
      ]
     },
     "metadata": {},
     "output_type": "display_data"
    },
    {
     "data": {
      "text/plain": [
       "<Axes: xlabel='Subject', ylabel='mean'>"
      ]
     },
     "execution_count": 93,
     "metadata": {},
     "output_type": "execute_result"
    },
    {
     "data": {
      "image/png": "[encoded data removed]",
      "text/plain": [
       "<Figure size 640x480 with 1 Axes>"
      ]
     },
     "metadata": {},
     "output_type": "display_data"
    }
   ],
   "source": [
    "#Las notas medias de todos los estudiantes por asignatura, agrupando por sexo\n",
    "\n",
    "import matplotlib.pyplot as plt\n",
    "import seaborn as sns\n",
    "\n",
    "df = students_with_marks.groupby([\"Subject\", \"Sex\"], as_index= False).agg(mean=(\"Mark\", \"mean\"))\n",
    "\n",
    "display(data)\n",
    "\n",
    "sns.barplot(x=df[\"Subject\"], y=df[\"mean\"], hue=df[\"Sex\"], data=df)"
   ]
  },
  {
   "cell_type": "code",
   "execution_count": 99,
   "id": "51a93594-f0cf-4002-a616-77c8a277fe6f",
   "metadata": {
    "tags": []
   },
   "outputs": [
    {
     "data": {
      "text/plain": [
       "<seaborn.axisgrid.JointGrid at 0x2a5b3b78a50>"
      ]
     },
     "execution_count": 99,
     "metadata": {},
     "output_type": "execute_result"
    },
    {
     "data": {
      "image/png": "[encoded data removed]",
      "text/plain": [
       "<Figure size 600x600 with 3 Axes>"
      ]
     },
     "metadata": {},
     "output_type": "display_data"
    }
   ],
   "source": [
    "#La densidad bivariable de la edad de los estudiantes frente a sus notas, agrupando por sexo \n",
    "#(mostrando los datos de dispersion en la zona central, las curvas de densidad en los ejes)\n",
    "\n",
    "df = students_with_marks[[\"Age\", \"Sex\", \"Mark\"]]\n",
    "\n",
    "sns.jointplot(x=df[\"Age\"], y=df[\"Mark\"], hue=df[\"Sex\"], data=df)"
   ]
  },
  {
   "cell_type": "markdown",
   "id": "seven-trout",
   "metadata": {},
   "source": [
    "### A7 - 15%\n",
    "- Dadas dos Series de Pandas, implementar una función 'find_not_common' para encontrar los elementos no comunes a ambas Series\n",
    "- Se proveen dos series como referencia, el resultado para este ejemplo debe ser una serie con los elementos [4, 6, 14, 16]"
   ]
  },
  {
   "cell_type": "code",
   "execution_count": 4,
   "id": "residential-empty",
   "metadata": {},
   "outputs": [
    {
     "name": "stdout",
     "output_type": "stream",
     "text": [
      "True\n"
     ]
    }
   ],
   "source": [
    "def find_not_common(ser1, ser2):\n",
    "    #Se unen las dos series en una con el metodo \"union1d\"\n",
    "    union = pd.Series(np.union1d(ser1,ser2))\n",
    "    #Se buscan los valores comunes con el metodo \"intersect1d\" y se guardan en una nueva series\n",
    "    intersect = pd.Series(np.intersect1d(ser1, ser2))\n",
    "    #Los elementos no comunes seran los elementos de la union que no se encuentren en la serie \"intersect\"\n",
    "    return pd.Series(union[~union.isin(intersect)].values)\n",
    "\n",
    "p1 = pd.Series([2, 4, 12, 6, 8, 10])\n",
    "p2 = pd.Series([8, 10, 12, 10, 14, 2, 16, 10])\n",
    "\n",
    "print(find_not_common(p1, p2).equals(pd.Series([4, 6, 14, 16]))) # Esto deberia imprimir True"
   ]
  }
 ],
 "metadata": {
  "kernelspec": {
   "display_name": "Python 3 (ipykernel)",
   "language": "python",
   "name": "python3"
  },
  "language_info": {
   "codemirror_mode": {
    "name": "ipython",
    "version": 3
   },
   "file_extension": ".py",
   "mimetype": "text/x-python",
   "name": "python",
   "nbconvert_exporter": "python",
   "pygments_lexer": "ipython3",
   "version": "3.11.1"
  }
 },
 "nbformat": 4,
 "nbformat_minor": 5
}
